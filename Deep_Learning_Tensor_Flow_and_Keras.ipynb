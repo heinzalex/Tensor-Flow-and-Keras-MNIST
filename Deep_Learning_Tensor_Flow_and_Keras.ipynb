{
  "nbformat": 4,
  "nbformat_minor": 0,
  "metadata": {
    "colab": {
      "name": "Deep Learning Tensor Flow and Keras",
      "provenance": []
    },
    "kernelspec": {
      "name": "python3",
      "display_name": "Python 3"
    }
  },
  "cells": [
    {
      "cell_type": "code",
      "metadata": {
        "id": "9T4r3CeNLYUg",
        "colab_type": "code",
        "colab": {
          "base_uri": "https://localhost:8080/",
          "height": 564
        },
        "outputId": "2ec99ead-f441-4776-de84-e4c43e0cee5b"
      },
      "source": [
        "pip install tensorflow-gpu==2.0.0-rc1"
      ],
      "execution_count": 1,
      "outputs": [
        {
          "output_type": "stream",
          "text": [
            "Collecting tensorflow-gpu==2.0.0-rc1\n",
            "\u001b[?25l  Downloading https://files.pythonhosted.org/packages/73/cf/2fc69ba3e59edc8333e2676fa71b40197718dea7dc1282c79955cf6b2acb/tensorflow_gpu-2.0.0rc1-cp36-cp36m-manylinux2010_x86_64.whl (380.5MB)\n",
            "\u001b[K     |████████████████████████████████| 380.5MB 42kB/s \n",
            "\u001b[?25hRequirement already satisfied: six>=1.10.0 in /usr/local/lib/python3.6/dist-packages (from tensorflow-gpu==2.0.0-rc1) (1.12.0)\n",
            "Requirement already satisfied: grpcio>=1.8.6 in /usr/local/lib/python3.6/dist-packages (from tensorflow-gpu==2.0.0-rc1) (1.30.0)\n",
            "Requirement already satisfied: wrapt>=1.11.1 in /usr/local/lib/python3.6/dist-packages (from tensorflow-gpu==2.0.0-rc1) (1.12.1)\n",
            "Requirement already satisfied: gast>=0.2.0 in /usr/local/lib/python3.6/dist-packages (from tensorflow-gpu==2.0.0-rc1) (0.3.3)\n",
            "Requirement already satisfied: wheel>=0.26 in /usr/local/lib/python3.6/dist-packages (from tensorflow-gpu==2.0.0-rc1) (0.34.2)\n",
            "Requirement already satisfied: google-pasta>=0.1.6 in /usr/local/lib/python3.6/dist-packages (from tensorflow-gpu==2.0.0-rc1) (0.2.0)\n",
            "Requirement already satisfied: keras-applications>=1.0.8 in /usr/local/lib/python3.6/dist-packages (from tensorflow-gpu==2.0.0-rc1) (1.0.8)\n",
            "Requirement already satisfied: absl-py>=0.7.0 in /usr/local/lib/python3.6/dist-packages (from tensorflow-gpu==2.0.0-rc1) (0.9.0)\n",
            "Collecting tf-estimator-nightly<1.14.0.dev2019080602,>=1.14.0.dev2019080601\n",
            "\u001b[?25l  Downloading https://files.pythonhosted.org/packages/21/28/f2a27a62943d5f041e4a6fd404b2d21cb7c59b2242a4e73b03d9ba166552/tf_estimator_nightly-1.14.0.dev2019080601-py2.py3-none-any.whl (501kB)\n",
            "\u001b[K     |████████████████████████████████| 501kB 50.2MB/s \n",
            "\u001b[?25hRequirement already satisfied: numpy<2.0,>=1.16.0 in /usr/local/lib/python3.6/dist-packages (from tensorflow-gpu==2.0.0-rc1) (1.18.5)\n",
            "Requirement already satisfied: astor>=0.6.0 in /usr/local/lib/python3.6/dist-packages (from tensorflow-gpu==2.0.0-rc1) (0.8.1)\n",
            "Collecting tb-nightly<1.15.0a20190807,>=1.15.0a20190806\n",
            "\u001b[?25l  Downloading https://files.pythonhosted.org/packages/bc/88/24b5fb7280e74c7cf65bde47c171547fd02afb3840cff41bcbe9270650f5/tb_nightly-1.15.0a20190806-py3-none-any.whl (4.3MB)\n",
            "\u001b[K     |████████████████████████████████| 4.3MB 46.6MB/s \n",
            "\u001b[?25hRequirement already satisfied: keras-preprocessing>=1.0.5 in /usr/local/lib/python3.6/dist-packages (from tensorflow-gpu==2.0.0-rc1) (1.1.2)\n",
            "Requirement already satisfied: termcolor>=1.1.0 in /usr/local/lib/python3.6/dist-packages (from tensorflow-gpu==2.0.0-rc1) (1.1.0)\n",
            "Requirement already satisfied: opt-einsum>=2.3.2 in /usr/local/lib/python3.6/dist-packages (from tensorflow-gpu==2.0.0-rc1) (3.2.1)\n",
            "Requirement already satisfied: protobuf>=3.6.1 in /usr/local/lib/python3.6/dist-packages (from tensorflow-gpu==2.0.0-rc1) (3.12.2)\n",
            "Requirement already satisfied: h5py in /usr/local/lib/python3.6/dist-packages (from keras-applications>=1.0.8->tensorflow-gpu==2.0.0-rc1) (2.10.0)\n",
            "Requirement already satisfied: werkzeug>=0.11.15 in /usr/local/lib/python3.6/dist-packages (from tb-nightly<1.15.0a20190807,>=1.15.0a20190806->tensorflow-gpu==2.0.0-rc1) (1.0.1)\n",
            "Requirement already satisfied: markdown>=2.6.8 in /usr/local/lib/python3.6/dist-packages (from tb-nightly<1.15.0a20190807,>=1.15.0a20190806->tensorflow-gpu==2.0.0-rc1) (3.2.2)\n",
            "Requirement already satisfied: setuptools>=41.0.0 in /usr/local/lib/python3.6/dist-packages (from tb-nightly<1.15.0a20190807,>=1.15.0a20190806->tensorflow-gpu==2.0.0-rc1) (49.1.0)\n",
            "Requirement already satisfied: importlib-metadata; python_version < \"3.8\" in /usr/local/lib/python3.6/dist-packages (from markdown>=2.6.8->tb-nightly<1.15.0a20190807,>=1.15.0a20190806->tensorflow-gpu==2.0.0-rc1) (1.7.0)\n",
            "Requirement already satisfied: zipp>=0.5 in /usr/local/lib/python3.6/dist-packages (from importlib-metadata; python_version < \"3.8\"->markdown>=2.6.8->tb-nightly<1.15.0a20190807,>=1.15.0a20190806->tensorflow-gpu==2.0.0-rc1) (3.1.0)\n",
            "Installing collected packages: tf-estimator-nightly, tb-nightly, tensorflow-gpu\n",
            "Successfully installed tb-nightly-1.15.0a20190806 tensorflow-gpu-2.0.0rc1 tf-estimator-nightly-1.14.0.dev2019080601\n"
          ],
          "name": "stdout"
        }
      ]
    },
    {
      "cell_type": "code",
      "metadata": {
        "id": "JHASq3aCLaWF",
        "colab_type": "code",
        "colab": {}
      },
      "source": [
        "from tensorflow.keras.models import Sequential"
      ],
      "execution_count": 2,
      "outputs": []
    },
    {
      "cell_type": "code",
      "metadata": {
        "id": "7zl0nWvMLnZS",
        "colab_type": "code",
        "colab": {}
      },
      "source": [
        "import warnings\n",
        "warnings.filterwarnings(\"ignore\")\n",
        "\n",
        "from tensorflow.keras.datasets import mnist"
      ],
      "execution_count": 3,
      "outputs": []
    },
    {
      "cell_type": "code",
      "metadata": {
        "id": "UTi138CgMUv2",
        "colab_type": "code",
        "colab": {
          "base_uri": "https://localhost:8080/",
          "height": 51
        },
        "outputId": "2ce0fb72-ef83-4302-b477-72b0301aef15"
      },
      "source": [
        "(X_train, y_train), (X_test, y_test) = mnist.load_data()\n",
        "\n",
        "input_dim = 784  # 28*28\n",
        "output_dim = nb_classes = 10\n",
        "batch_size = 128\n",
        "nb_epoch = 20\n",
        "\n",
        "X_train = X_train.reshape(60000, input_dim)\n",
        "X_test = X_test.reshape(10000, input_dim)\n",
        "X_train = X_train.astype('float32')\n",
        "X_test = X_test.astype('float32')\n",
        "X_train /= 255\n",
        "X_test /= 255"
      ],
      "execution_count": 4,
      "outputs": [
        {
          "output_type": "stream",
          "text": [
            "Downloading data from https://storage.googleapis.com/tensorflow/tf-keras-datasets/mnist.npz\n",
            "11493376/11490434 [==============================] - 0s 0us/step\n"
          ],
          "name": "stdout"
        }
      ]
    },
    {
      "cell_type": "code",
      "metadata": {
        "id": "Hm87_gIlMa29",
        "colab_type": "code",
        "colab": {}
      },
      "source": [
        "from tensorflow.keras.utils import to_categorical\n",
        "\n",
        "Y_train = to_categorical(y_train, nb_classes)\n",
        "Y_test = to_categorical(y_test, nb_classes)"
      ],
      "execution_count": 5,
      "outputs": []
    },
    {
      "cell_type": "code",
      "metadata": {
        "id": "Tfj8ToDdMrtG",
        "colab_type": "code",
        "colab": {
          "base_uri": "https://localhost:8080/",
          "height": 34
        },
        "outputId": "a9154a18-a726-4513-9455-575bc8162ca4"
      },
      "source": [
        "X_train[0].shape"
      ],
      "execution_count": 6,
      "outputs": [
        {
          "output_type": "execute_result",
          "data": {
            "text/plain": [
              "(784,)"
            ]
          },
          "metadata": {
            "tags": []
          },
          "execution_count": 6
        }
      ]
    },
    {
      "cell_type": "code",
      "metadata": {
        "id": "idd6_efFMuwE",
        "colab_type": "code",
        "colab": {
          "base_uri": "https://localhost:8080/",
          "height": 307
        },
        "outputId": "90f158c4-9341-4022-dbb4-d8a5907f994c"
      },
      "source": [
        "import matplotlib.pyplot as plt\n",
        "\n",
        "plt.figure(figsize=(20,5))\n",
        "\n",
        "plt.subplot(141)\n",
        "plt.imshow(X_train[123].reshape(28,28), cmap=\"gray\")\n",
        "plt.title(\"Label of the image: {}\".format(y_train[123]))\n",
        "\n",
        "plt.subplot(142)\n",
        "plt.imshow(X_train[124].reshape(28,28), cmap=\"gray\")\n",
        "plt.title(\"Label of the image: {}\".format(y_train[124]))\n",
        "\n",
        "plt.subplot(143)\n",
        "plt.imshow(X_train[125].reshape(28,28), cmap=\"gray\")\n",
        "plt.title(\"Label of the image: {}\".format(y_train[125]))\n",
        "\n",
        "plt.subplot(144)\n",
        "plt.imshow(X_train[126].reshape(28,28), cmap=\"gray\")\n",
        "plt.title(\"Label of the image: {}\".format(y_train[126]))\n",
        "\n",
        "plt.show()"
      ],
      "execution_count": 7,
      "outputs": [
        {
          "output_type": "display_data",
          "data": {
            "image/png": "[encoded data removed]",
            "text/plain": [
              "<Figure size 1440x360 with 4 Axes>"
            ]
          },
          "metadata": {
            "tags": [],
            "needs_background": "light"
          }
        }
      ]
    },
    {
      "cell_type": "markdown",
      "metadata": {
        "id": "YbhdYKJsRCaF",
        "colab_type": "text"
      },
      "source": [
        "1. In this task, you'll build an ANN and train and test it using the MNIST data. This ANN should consist of two hidden and one output layer. All hidden layers should be dense. The neuron sizes of the first layer and the second layer should be 32 and 16 respectively. Train this model 20 epochs and compare your train and test set performance with the example in the checkpoint. Is there any difference? If so, why?"
      ]
    },
    {
      "cell_type": "code",
      "metadata": {
        "id": "uununqM5MzeV",
        "colab_type": "code",
        "colab": {}
      },
      "source": [
        "from tensorflow.keras.models import Sequential \n",
        "from tensorflow.keras.layers import Dense\n",
        "\n",
        "model = Sequential()\n",
        "# our first dense layer\n",
        "model.add(Dense(32, input_shape=(784,), activation=\"relu\"))\n",
        "# our second dense layer\n",
        "model.add(Dense(16, activation=\"relu\"))\n",
        "# last layer is the output layer.\n",
        "model.add(Dense(10, activation=\"softmax\"))"
      ],
      "execution_count": 13,
      "outputs": []
    },
    {
      "cell_type": "code",
      "metadata": {
        "id": "89FP2wGzM9QP",
        "colab_type": "code",
        "colab": {
          "base_uri": "https://localhost:8080/",
          "height": 255
        },
        "outputId": "3bc8799d-c15a-4871-81ef-69f7220700ad"
      },
      "source": [
        "model.summary()"
      ],
      "execution_count": 14,
      "outputs": [
        {
          "output_type": "stream",
          "text": [
            "Model: \"sequential_1\"\n",
            "_________________________________________________________________\n",
            "Layer (type)                 Output Shape              Param #   \n",
            "=================================================================\n",
            "dense_3 (Dense)              (None, 32)                25120     \n",
            "_________________________________________________________________\n",
            "dense_4 (Dense)              (None, 16)                528       \n",
            "_________________________________________________________________\n",
            "dense_5 (Dense)              (None, 10)                170       \n",
            "=================================================================\n",
            "Total params: 25,818\n",
            "Trainable params: 25,818\n",
            "Non-trainable params: 0\n",
            "_________________________________________________________________\n"
          ],
          "name": "stdout"
        }
      ]
    },
    {
      "cell_type": "code",
      "metadata": {
        "id": "X0VsKmVgM_Gw",
        "colab_type": "code",
        "colab": {}
      },
      "source": [
        "model.compile(optimizer='sgd', loss='categorical_crossentropy',\n",
        "              metrics=['accuracy'])"
      ],
      "execution_count": 15,
      "outputs": []
    },
    {
      "cell_type": "code",
      "metadata": {
        "id": "WcjkYz8WNCEz",
        "colab_type": "code",
        "colab": {
          "base_uri": "https://localhost:8080/",
          "height": 785
        },
        "outputId": "fbb93ee1-bd04-4633-e5e6-5b90e091cd3a"
      },
      "source": [
        "# setting verbose=1 prints out some results after each epoch\n",
        "model.fit(X_train, Y_train, batch_size=batch_size, epochs=20, verbose=1)"
      ],
      "execution_count": 16,
      "outputs": [
        {
          "output_type": "stream",
          "text": [
            "Train on 60000 samples\n",
            "Epoch 1/20\n",
            "WARNING:tensorflow:Entity <function Function._initialize_uninitialized_variables.<locals>.initialize_variables at 0x7f1d7372a950> could not be transformed and will be executed as-is. Please report this to the AutoGraph team. When filing the bug, set the verbosity to 10 (on Linux, `export AUTOGRAPH_VERBOSITY=10`) and attach the full output. Cause: module 'gast' has no attribute 'Num'\n",
            "WARNING: Entity <function Function._initialize_uninitialized_variables.<locals>.initialize_variables at 0x7f1d7372a950> could not be transformed and will be executed as-is. Please report this to the AutoGraph team. When filing the bug, set the verbosity to 10 (on Linux, `export AUTOGRAPH_VERBOSITY=10`) and attach the full output. Cause: module 'gast' has no attribute 'Num'\n",
            "60000/60000 [==============================] - 2s 32us/sample - loss: 1.6274 - accuracy: 0.5198\n",
            "Epoch 2/20\n",
            "60000/60000 [==============================] - 1s 23us/sample - loss: 0.7069 - accuracy: 0.8145\n",
            "Epoch 3/20\n",
            "60000/60000 [==============================] - 1s 24us/sample - loss: 0.5014 - accuracy: 0.8594\n",
            "Epoch 4/20\n",
            "60000/60000 [==============================] - 1s 23us/sample - loss: 0.4293 - accuracy: 0.8766\n",
            "Epoch 5/20\n",
            "60000/60000 [==============================] - 1s 23us/sample - loss: 0.3903 - accuracy: 0.8863\n",
            "Epoch 6/20\n",
            "60000/60000 [==============================] - 1s 23us/sample - loss: 0.3638 - accuracy: 0.8941\n",
            "Epoch 7/20\n",
            "60000/60000 [==============================] - 1s 23us/sample - loss: 0.3428 - accuracy: 0.9008\n",
            "Epoch 8/20\n",
            "60000/60000 [==============================] - 1s 23us/sample - loss: 0.3257 - accuracy: 0.9059\n",
            "Epoch 9/20\n",
            "60000/60000 [==============================] - 1s 22us/sample - loss: 0.3108 - accuracy: 0.9102\n",
            "Epoch 10/20\n",
            "60000/60000 [==============================] - 1s 22us/sample - loss: 0.2973 - accuracy: 0.9133\n",
            "Epoch 11/20\n",
            "60000/60000 [==============================] - 1s 22us/sample - loss: 0.2856 - accuracy: 0.9171\n",
            "Epoch 12/20\n",
            "60000/60000 [==============================] - 1s 23us/sample - loss: 0.2748 - accuracy: 0.9206\n",
            "Epoch 13/20\n",
            "60000/60000 [==============================] - 1s 22us/sample - loss: 0.2644 - accuracy: 0.9234\n",
            "Epoch 14/20\n",
            "60000/60000 [==============================] - 1s 22us/sample - loss: 0.2552 - accuracy: 0.9260\n",
            "Epoch 15/20\n",
            "60000/60000 [==============================] - 1s 22us/sample - loss: 0.2466 - accuracy: 0.9289\n",
            "Epoch 16/20\n",
            "60000/60000 [==============================] - 1s 22us/sample - loss: 0.2385 - accuracy: 0.9315\n",
            "Epoch 17/20\n",
            "60000/60000 [==============================] - 1s 22us/sample - loss: 0.2313 - accuracy: 0.9333\n",
            "Epoch 18/20\n",
            "60000/60000 [==============================] - 1s 22us/sample - loss: 0.2244 - accuracy: 0.9357\n",
            "Epoch 19/20\n",
            "60000/60000 [==============================] - 1s 23us/sample - loss: 0.2178 - accuracy: 0.9376\n",
            "Epoch 20/20\n",
            "60000/60000 [==============================] - 1s 22us/sample - loss: 0.2119 - accuracy: 0.9395\n"
          ],
          "name": "stdout"
        },
        {
          "output_type": "execute_result",
          "data": {
            "text/plain": [
              "<tensorflow.python.keras.callbacks.History at 0x7f1d7373d2b0>"
            ]
          },
          "metadata": {
            "tags": []
          },
          "execution_count": 16
        }
      ]
    },
    {
      "cell_type": "code",
      "metadata": {
        "id": "gBML1BZbNE78",
        "colab_type": "code",
        "colab": {
          "base_uri": "https://localhost:8080/",
          "height": 51
        },
        "outputId": "51ec6a8c-9345-4d66-b05f-21a8dcfa3c89"
      },
      "source": [
        "score = model.evaluate(X_test, Y_test, verbose=0)\n",
        "print('Test score:', score[0])\n",
        "print('Test accuracy:', score[1])"
      ],
      "execution_count": 17,
      "outputs": [
        {
          "output_type": "stream",
          "text": [
            "Test score: 0.2085102808237076\n",
            "Test accuracy: 0.9366\n"
          ],
          "name": "stdout"
        }
      ]
    },
    {
      "cell_type": "markdown",
      "metadata": {
        "id": "LQkHVFehQxXT",
        "colab_type": "text"
      },
      "source": [
        "The model achieved 94% accuracy in both the training and the test set. This level is lower than that of the example in the checkpoint. Since the layers include less number of neurons in this model, the model is simpler than the one of the example. This resulted in a lower performance. It seems, MNIST data requires a more complicated model than this one."
      ]
    },
    {
      "cell_type": "markdown",
      "metadata": {
        "id": "couslYNKQ1P6",
        "colab_type": "text"
      },
      "source": [
        "2. You'll also build an ANN in this task. This time, this ANN should have 5 hidden layers and 1 output layer. All the layers should be dense. The neuron numbers for the hidden layers should be 1024, 512, 256, 128 and 64. Train this model 20 epochs and test it using the same data from the previous task and compare your results. Is there any difference? If so, why?"
      ]
    },
    {
      "cell_type": "code",
      "metadata": {
        "id": "oIJapGJ2NGxC",
        "colab_type": "code",
        "colab": {}
      },
      "source": [
        "model = Sequential()\n",
        "# our first dense layer\n",
        "model.add(Dense(1024, input_shape=(784,), activation=\"relu\"))\n",
        "# our second dense layer\n",
        "model.add(Dense(512, activation=\"relu\"))\n",
        "# our third dense layer\n",
        "model.add(Dense(256, activation=\"relu\"))\n",
        "# our fourth dense layer\n",
        "model.add(Dense(128, activation=\"relu\"))\n",
        "# our fifth dense layer\n",
        "model.add(Dense(64, activation=\"relu\"))\n",
        "# last layer is the output layer.\n",
        "model.add(Dense(10, activation=\"softmax\"))"
      ],
      "execution_count": 18,
      "outputs": []
    },
    {
      "cell_type": "code",
      "metadata": {
        "id": "ORBg_Zl_QSIT",
        "colab_type": "code",
        "colab": {
          "base_uri": "https://localhost:8080/",
          "height": 357
        },
        "outputId": "51246498-059b-40f6-b8ee-4a72cf149a9b"
      },
      "source": [
        "model.summary()"
      ],
      "execution_count": 19,
      "outputs": [
        {
          "output_type": "stream",
          "text": [
            "Model: \"sequential_2\"\n",
            "_________________________________________________________________\n",
            "Layer (type)                 Output Shape              Param #   \n",
            "=================================================================\n",
            "dense_6 (Dense)              (None, 1024)              803840    \n",
            "_________________________________________________________________\n",
            "dense_7 (Dense)              (None, 512)               524800    \n",
            "_________________________________________________________________\n",
            "dense_8 (Dense)              (None, 256)               131328    \n",
            "_________________________________________________________________\n",
            "dense_9 (Dense)              (None, 128)               32896     \n",
            "_________________________________________________________________\n",
            "dense_10 (Dense)             (None, 64)                8256      \n",
            "_________________________________________________________________\n",
            "dense_11 (Dense)             (None, 10)                650       \n",
            "=================================================================\n",
            "Total params: 1,501,770\n",
            "Trainable params: 1,501,770\n",
            "Non-trainable params: 0\n",
            "_________________________________________________________________\n"
          ],
          "name": "stdout"
        }
      ]
    },
    {
      "cell_type": "code",
      "metadata": {
        "id": "j2dg1iZpQVMD",
        "colab_type": "code",
        "colab": {}
      },
      "source": [
        "model.compile(optimizer='sgd', loss='categorical_crossentropy',\n",
        "              metrics=['accuracy'])"
      ],
      "execution_count": 20,
      "outputs": []
    },
    {
      "cell_type": "code",
      "metadata": {
        "id": "8DryQwf4QXUA",
        "colab_type": "code",
        "colab": {
          "base_uri": "https://localhost:8080/",
          "height": 785
        },
        "outputId": "e5f49db3-6bd6-4b76-c8ec-5b6492becad1"
      },
      "source": [
        "# setting verbose=1 prints out some results after each epoch\n",
        "model.fit(X_train, Y_train, batch_size=batch_size, epochs=20, verbose=1)"
      ],
      "execution_count": 21,
      "outputs": [
        {
          "output_type": "stream",
          "text": [
            "Train on 60000 samples\n",
            "Epoch 1/20\n",
            "WARNING:tensorflow:Entity <function Function._initialize_uninitialized_variables.<locals>.initialize_variables at 0x7f1d7e3f6488> could not be transformed and will be executed as-is. Please report this to the AutoGraph team. When filing the bug, set the verbosity to 10 (on Linux, `export AUTOGRAPH_VERBOSITY=10`) and attach the full output. Cause: module 'gast' has no attribute 'Num'\n",
            "WARNING: Entity <function Function._initialize_uninitialized_variables.<locals>.initialize_variables at 0x7f1d7e3f6488> could not be transformed and will be executed as-is. Please report this to the AutoGraph team. When filing the bug, set the verbosity to 10 (on Linux, `export AUTOGRAPH_VERBOSITY=10`) and attach the full output. Cause: module 'gast' has no attribute 'Num'\n",
            "60000/60000 [==============================] - 13s 224us/sample - loss: 1.1889 - accuracy: 0.7019\n",
            "Epoch 2/20\n",
            "60000/60000 [==============================] - 13s 210us/sample - loss: 0.3787 - accuracy: 0.8932\n",
            "Epoch 3/20\n",
            "60000/60000 [==============================] - 13s 219us/sample - loss: 0.2839 - accuracy: 0.9192\n",
            "Epoch 4/20\n",
            "60000/60000 [==============================] - 13s 212us/sample - loss: 0.2372 - accuracy: 0.9316\n",
            "Epoch 5/20\n",
            "60000/60000 [==============================] - 12s 206us/sample - loss: 0.2059 - accuracy: 0.9409\n",
            "Epoch 6/20\n",
            "60000/60000 [==============================] - 13s 209us/sample - loss: 0.1823 - accuracy: 0.9468\n",
            "Epoch 7/20\n",
            "60000/60000 [==============================] - 13s 208us/sample - loss: 0.1622 - accuracy: 0.9530\n",
            "Epoch 8/20\n",
            "60000/60000 [==============================] - 13s 209us/sample - loss: 0.1459 - accuracy: 0.9581\n",
            "Epoch 9/20\n",
            "60000/60000 [==============================] - 13s 214us/sample - loss: 0.1332 - accuracy: 0.9616\n",
            "Epoch 10/20\n",
            "60000/60000 [==============================] - 13s 216us/sample - loss: 0.1219 - accuracy: 0.9642\n",
            "Epoch 11/20\n",
            "60000/60000 [==============================] - 12s 206us/sample - loss: 0.1117 - accuracy: 0.9677\n",
            "Epoch 12/20\n",
            "60000/60000 [==============================] - 12s 206us/sample - loss: 0.1022 - accuracy: 0.9704\n",
            "Epoch 13/20\n",
            "60000/60000 [==============================] - 13s 210us/sample - loss: 0.0946 - accuracy: 0.9723\n",
            "Epoch 14/20\n",
            "60000/60000 [==============================] - 13s 212us/sample - loss: 0.0876 - accuracy: 0.9746\n",
            "Epoch 15/20\n",
            "60000/60000 [==============================] - 13s 209us/sample - loss: 0.0813 - accuracy: 0.9760\n",
            "Epoch 16/20\n",
            "60000/60000 [==============================] - 13s 210us/sample - loss: 0.0755 - accuracy: 0.9784\n",
            "Epoch 17/20\n",
            "60000/60000 [==============================] - 13s 212us/sample - loss: 0.0698 - accuracy: 0.9801\n",
            "Epoch 18/20\n",
            "60000/60000 [==============================] - 13s 211us/sample - loss: 0.0653 - accuracy: 0.9815\n",
            "Epoch 19/20\n",
            "60000/60000 [==============================] - 13s 212us/sample - loss: 0.0605 - accuracy: 0.9830\n",
            "Epoch 20/20\n",
            "60000/60000 [==============================] - 13s 211us/sample - loss: 0.0568 - accuracy: 0.9839\n"
          ],
          "name": "stdout"
        },
        {
          "output_type": "execute_result",
          "data": {
            "text/plain": [
              "<tensorflow.python.keras.callbacks.History at 0x7f1d72280748>"
            ]
          },
          "metadata": {
            "tags": []
          },
          "execution_count": 21
        }
      ]
    },
    {
      "cell_type": "code",
      "metadata": {
        "id": "lIjc4VwAQaFm",
        "colab_type": "code",
        "colab": {
          "base_uri": "https://localhost:8080/",
          "height": 51
        },
        "outputId": "b5695f20-004b-4576-95b6-49bb4da2ea83"
      },
      "source": [
        "score = model.evaluate(X_test, Y_test, verbose=0)\n",
        "print('Test score:', score[0])\n",
        "print('Test accuracy:', score[1])"
      ],
      "execution_count": 22,
      "outputs": [
        {
          "output_type": "stream",
          "text": [
            "Test score: 0.10389775360999629\n",
            "Test accuracy: 0.9688\n"
          ],
          "name": "stdout"
        }
      ]
    },
    {
      "cell_type": "markdown",
      "metadata": {
        "id": "7jAPCkBjRHx-",
        "colab_type": "text"
      },
      "source": [
        "In this case, the model achieved almost 99% accuracy in the training set and 97% accuracy in the test set. The model here is more complex than the model of the previous task and the model in the example. Because this model is more complex than the previous two models it achieved higher performance in the training set. However, the difference between the training score and test score widened a little bit. It may be a sign that this model is too complex and it started to overfit. Also, to add, it took MUCH longer to run."
      ]
    },
    {
      "cell_type": "code",
      "metadata": {
        "id": "Wbxgvt32RIUE",
        "colab_type": "code",
        "colab": {}
      },
      "source": [
        ""
      ],
      "execution_count": null,
      "outputs": []
    }
  ]
}